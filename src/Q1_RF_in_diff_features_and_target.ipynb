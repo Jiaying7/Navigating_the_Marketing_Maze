{
  "cells": [
    {
      "cell_type": "markdown",
      "metadata": {
        "id": "V-MARN10Yw0v"
      },
      "source": [
        "## Load and Explore the Datasets"
      ]
    },
    {
      "cell_type": "code",
      "source": [
        "from google.colab import drive\n",
        "drive.mount('/content/drive')"
      ],
      "metadata": {
        "id": "c7K9XMGOXvus"
      },
      "execution_count": null,
      "outputs": []
    },
    {
      "cell_type": "code",
      "execution_count": null,
      "metadata": {
        "id": "en5DOV1DWBSj",
        "colab": {
          "base_uri": "https://localhost:8080/"
        },
        "outputId": "9e61267f-6c79-42ee-9660-fd47898a3749"
      },
      "outputs": [
        {
          "output_type": "stream",
          "name": "stdout",
          "text": [
            "   customer_id  purchase_frequency  total_amount  recency  customer_lifetime  \\\n",
            "0  C0100000111                   6        882.97       80                281   \n",
            "1  C0100000199                   3        597.00       73                191   \n",
            "2  C0100000343                   6        700.94       24                308   \n",
            "3  C0100000375                   4        223.98       65                289   \n",
            "4  C0100000392                  32        626.12       25                327   \n",
            "\n",
            "      clv  \n",
            "0  882.97  \n",
            "1  597.00  \n",
            "2  700.94  \n",
            "3  223.98  \n",
            "4  626.12  \n",
            "   customer_id  PostalCode  Gender       YOB  MaritalStatus  HasChildren  \\\n",
            "0  C0101482495           0       1  1.701975              2            0   \n",
            "1  C0100634627           1       0  1.020606              1            1   \n",
            "2  C0100594701           1       0  1.020606              0            1   \n",
            "3  C0105231010           3       0  0.825929              0            1   \n",
            "4  C0101923201           3       0 -1.704871              0            0   \n",
            "\n",
            "   NumChildren  City  Population_K  HouseHolds  ...   Pop0_25  Pop26_45  \\\n",
            "0     1.372071     1     -0.128920    0.048292  ... -1.503376 -1.072013   \n",
            "1     0.649477     1      0.268379    0.279420  ... -2.472678 -0.005727   \n",
            "2     2.817259     1      0.268379    0.279420  ... -2.472678 -0.005727   \n",
            "3     1.372071     1     -0.676020   -0.691318  ... -0.534073  0.527417   \n",
            "4    -0.795711     1     -0.676020   -0.691318  ... -0.534073  0.527417   \n",
            "\n",
            "   Pop46_55  Pop56_65  PopOver65  HHIncomeMed  WhtCollarOcc  BluCollarOcc  \\\n",
            "0  0.756935 -0.033063   2.251169    -1.169472     -1.329761      1.384772   \n",
            "1  0.756935 -0.033063   2.251169    -1.063620      0.732803     -0.193350   \n",
            "2  0.756935 -0.033063   2.251169    -1.063620      0.732803     -0.193350   \n",
            "3  0.037641  0.669411  -1.394819     0.773361     -0.413066      0.858731   \n",
            "4  0.037641  0.669411  -1.394819     0.773361     -0.413066      0.858731   \n",
            "\n",
            "   nbr_items    amount  \n",
            "0  -0.362086 -0.273377  \n",
            "1  -0.543822 -1.065936  \n",
            "2  -0.362086 -0.302408  \n",
            "3  -0.452954 -0.723335  \n",
            "4  -0.362086 -0.446114  \n",
            "\n",
            "[5 rows x 21 columns]\n",
            "     trans_dt     amount\n",
            "0  2015-01-01   59170.29\n",
            "1  2015-01-02  113053.31\n",
            "2  2015-01-03  110558.35\n",
            "3  2015-01-04  113394.61\n",
            "4  2015-01-05  119237.87\n"
          ]
        }
      ],
      "source": [
        "import pandas as pd\n",
        "\n",
        "# Load the datasets\n",
        "customer_agg = pd.read_csv('/content/drive/MyDrive/Practicum/datasets after process/customer_agg.csv')\n",
        "merged_df = pd.read_csv('/content/drive/MyDrive/Practicum/datasets after process/merged_df.csv')\n",
        "sales_trends = pd.read_csv('/content/drive/MyDrive/Practicum/datasets after process/Sales_Trends.csv')\n",
        "\n",
        "# Display the first few rows of each dataset\n",
        "print(customer_agg.head())\n",
        "print(merged_df.head())\n",
        "print(sales_trends.head())"
      ]
    },
    {
      "cell_type": "markdown",
      "metadata": {
        "id": "q8pxxvvJY2MN"
      },
      "source": [
        "## Initial Data Exploration and Cleaning"
      ]
    },
    {
      "cell_type": "code",
      "execution_count": null,
      "metadata": {
        "colab": {
          "base_uri": "https://localhost:8080/"
        },
        "id": "ISjIlGDSWfxs",
        "outputId": "c652f3f1-be1c-4757-e4a0-b1e348494f23"
      },
      "outputs": [
        {
          "output_type": "stream",
          "name": "stdout",
          "text": [
            "<class 'pandas.core.frame.DataFrame'>\n",
            "RangeIndex: 60535 entries, 0 to 60534\n",
            "Data columns (total 6 columns):\n",
            " #   Column              Non-Null Count  Dtype  \n",
            "---  ------              --------------  -----  \n",
            " 0   customer_id         60535 non-null  object \n",
            " 1   purchase_frequency  60535 non-null  int64  \n",
            " 2   total_amount        60535 non-null  float64\n",
            " 3   recency             60535 non-null  int64  \n",
            " 4   customer_lifetime   60535 non-null  int64  \n",
            " 5   clv                 60535 non-null  float64\n",
            "dtypes: float64(2), int64(3), object(1)\n",
            "memory usage: 2.8+ MB\n",
            "None\n",
            "       purchase_frequency  total_amount       recency  customer_lifetime  \\\n",
            "count        60535.000000  60535.000000  60535.000000       60535.000000   \n",
            "mean             6.516974    427.155577     95.218551         180.072652   \n",
            "std              9.789330    344.456584     85.819746         116.860501   \n",
            "min              1.000000      1.490000      0.000000           0.000000   \n",
            "25%              2.000000    200.980000     25.000000          80.000000   \n",
            "50%              3.000000    338.990000     67.000000         189.000000   \n",
            "75%              5.000000    536.865000    145.000000         283.000000   \n",
            "max             95.000000   6643.000000    364.000000         364.000000   \n",
            "\n",
            "                clv  \n",
            "count  60535.000000  \n",
            "mean     427.155577  \n",
            "std      344.456584  \n",
            "min        1.490000  \n",
            "25%      200.980000  \n",
            "50%      338.990000  \n",
            "75%      536.865000  \n",
            "max     6643.000000  \n",
            "<class 'pandas.core.frame.DataFrame'>\n",
            "RangeIndex: 32200 entries, 0 to 32199\n",
            "Data columns (total 21 columns):\n",
            " #   Column         Non-Null Count  Dtype  \n",
            "---  ------         --------------  -----  \n",
            " 0   customer_id    32200 non-null  object \n",
            " 1   PostalCode     32200 non-null  int64  \n",
            " 2   Gender         32200 non-null  int64  \n",
            " 3   YOB            32200 non-null  float64\n",
            " 4   MaritalStatus  32200 non-null  int64  \n",
            " 5   HasChildren    32200 non-null  int64  \n",
            " 6   NumChildren    32200 non-null  float64\n",
            " 7   City           32200 non-null  int64  \n",
            " 8   Population_K   32200 non-null  float64\n",
            " 9   HouseHolds     32200 non-null  float64\n",
            " 10  HHAveSize      32200 non-null  float64\n",
            " 11  Pop0_25        32200 non-null  float64\n",
            " 12  Pop26_45       32200 non-null  float64\n",
            " 13  Pop46_55       32200 non-null  float64\n",
            " 14  Pop56_65       32200 non-null  float64\n",
            " 15  PopOver65      32200 non-null  float64\n",
            " 16  HHIncomeMed    32200 non-null  float64\n",
            " 17  WhtCollarOcc   32200 non-null  float64\n",
            " 18  BluCollarOcc   32200 non-null  float64\n",
            " 19  nbr_items      32200 non-null  float64\n",
            " 20  amount         32200 non-null  float64\n",
            "dtypes: float64(15), int64(5), object(1)\n",
            "memory usage: 5.2+ MB\n",
            "None\n",
            "         PostalCode        Gender           YOB  MaritalStatus   HasChildren  \\\n",
            "count  32200.000000  32200.000000  32200.000000   32200.000000  32200.000000   \n",
            "mean   15551.798043      0.498882      0.006310       1.008944      0.506056   \n",
            "std     9174.669765      0.500007      1.000291       0.816638      0.499971   \n",
            "min        0.000000      0.000000     -1.704871       0.000000      0.000000   \n",
            "25%     7666.750000      0.000000     -0.877494       0.000000      0.000000   \n",
            "50%    15438.000000      0.000000     -0.001448       1.000000      1.000000   \n",
            "75%    23669.500000      1.000000      0.874598       2.000000      1.000000   \n",
            "max    31315.000000      1.000000      1.701975       2.000000      1.000000   \n",
            "\n",
            "        NumChildren          City  Population_K    HouseHolds     HHAveSize  \\\n",
            "count  32200.000000  32200.000000  32200.000000  32200.000000  32200.000000   \n",
            "mean       0.032624      1.245839     -0.010772     -0.010614     -0.004782   \n",
            "std        1.031289      0.985783      0.996601      0.996818      0.998793   \n",
            "min       -1.518305      0.000000     -3.118430     -3.079641     -3.140920   \n",
            "25%       -0.795711      0.000000     -0.715098     -0.722135     -0.599652   \n",
            "50%       -0.073117      1.000000     -0.011684      0.017475     -0.599652   \n",
            "75%        0.649477      2.000000      0.646139      0.649225      0.670982   \n",
            "max        4.262447      3.000000      3.296968      3.145407      3.212250   \n",
            "\n",
            "            Pop0_25      Pop26_45      Pop46_55      Pop56_65     PopOver65  \\\n",
            "count  32200.000000  32200.000000  32200.000000  32200.000000  32200.000000   \n",
            "mean       0.005876      0.002552      0.001185     -0.001234     -0.007034   \n",
            "std        0.996484      0.956458      0.998706      1.002897      0.999329   \n",
            "min       -3.926632     -4.270872     -3.558830     -2.842958     -3.582412   \n",
            "25%       -0.534073     -0.538870     -0.681653     -0.735537     -0.665621   \n",
            "50%       -0.049422     -0.005727      0.037641     -0.033063      0.063576   \n",
            "75%        0.435229      0.527417      0.756935      0.669411      0.792774   \n",
            "max        3.827788      3.193132      3.634112      3.479305      3.709564   \n",
            "\n",
            "        HHIncomeMed  WhtCollarOcc  BluCollarOcc     nbr_items        amount  \n",
            "count  32200.000000  32200.000000  32200.000000  32200.000000  32200.000000  \n",
            "mean       0.010886      0.001521     -0.005093     -0.003798     -0.014050  \n",
            "std        1.002678      1.001246      1.003806      0.994495      0.962384  \n",
            "min       -2.514767     -3.506912     -5.138132     -0.543822     -1.235770  \n",
            "25%       -0.805439     -0.642240     -0.614182     -0.452954     -0.659495  \n",
            "50%        0.000196     -0.069305      0.017066     -0.362086     -0.258832  \n",
            "75%        0.775178      0.618216      0.648315     -0.180350      0.307115  \n",
            "max        1.839786      4.399583      3.383726      8.997309     17.705787  \n",
            "<class 'pandas.core.frame.DataFrame'>\n",
            "RangeIndex: 365 entries, 0 to 364\n",
            "Data columns (total 2 columns):\n",
            " #   Column    Non-Null Count  Dtype  \n",
            "---  ------    --------------  -----  \n",
            " 0   trans_dt  365 non-null    object \n",
            " 1   amount    365 non-null    float64\n",
            "dtypes: float64(1), object(1)\n",
            "memory usage: 5.8+ KB\n",
            "None\n",
            "              amount\n",
            "count     365.000000\n",
            "mean    70843.459808\n",
            "std     34148.265243\n",
            "min     35813.860000\n",
            "25%     42861.680000\n",
            "50%     47245.360000\n",
            "75%    108467.210000\n",
            "max    141729.340000\n"
          ]
        }
      ],
      "source": [
        "# Basic information and statistics\n",
        "print(customer_agg.info())\n",
        "print(customer_agg.describe())\n",
        "\n",
        "print(merged_df.info())\n",
        "print(merged_df.describe())\n",
        "\n",
        "print(sales_trends.info())\n",
        "print(sales_trends.describe())"
      ]
    },
    {
      "cell_type": "markdown",
      "metadata": {
        "id": "lzriiV6mxbDm"
      },
      "source": [
        "## Train"
      ]
    },
    {
      "cell_type": "code",
      "execution_count": null,
      "metadata": {
        "colab": {
          "base_uri": "https://localhost:8080/"
        },
        "id": "sFMOUsE9gzKs",
        "outputId": "e3621baa-6ad1-4398-efa7-3006d7dbe588"
      },
      "outputs": [
        {
          "output_type": "stream",
          "name": "stdout",
          "text": [
            "   customer_id  purchase_frequency  total_amount  recency  customer_lifetime  \\\n",
            "0  C0100000111                   6        882.97       80                281   \n",
            "1  C0100000199                   3        597.00       73                191   \n",
            "2  C0100000343                   6        700.94       24                308   \n",
            "3  C0100000375                   4        223.98       65                289   \n",
            "4  C0100000392                  32        626.12       25                327   \n",
            "\n",
            "      clv  PostalCode  Gender       YOB  MaritalStatus  ...   Pop0_25  \\\n",
            "0  882.97         NaN     NaN       NaN            NaN  ...       NaN   \n",
            "1  597.00         NaN     NaN       NaN            NaN  ...       NaN   \n",
            "2  700.94      2405.0     0.0 -1.607532            2.0  ...  0.435229   \n",
            "3  223.98      2482.0     1.0 -0.780156            1.0  ... -1.503376   \n",
            "4  626.12      5377.0     0.0  0.679921            1.0  ...  0.919880   \n",
            "\n",
            "   Pop26_45  Pop46_55  Pop56_65  PopOver65  HHIncomeMed  WhtCollarOcc  \\\n",
            "0       NaN       NaN       NaN        NaN          NaN           NaN   \n",
            "1       NaN       NaN       NaN        NaN          NaN           NaN   \n",
            "2 -1.072013 -0.681653  0.669411   0.792774     1.351909      1.305737   \n",
            "3  1.060560  0.037641  1.371884   0.063576    -0.848694      1.191150   \n",
            "4  0.527417 -0.681653 -0.033063  -0.665621     1.604171     -0.871414   \n",
            "\n",
            "   BluCollarOcc  nbr_items    amount  \n",
            "0           NaN        NaN       NaN  \n",
            "1           NaN        NaN       NaN  \n",
            "2     -1.035015  -0.089482  0.794837  \n",
            "3     -1.561055  -0.271218 -0.589849  \n",
            "4      0.227483   2.727423  0.577623  \n",
            "\n",
            "[5 rows x 26 columns]\n"
          ]
        }
      ],
      "source": [
        "import pandas as pd\n",
        "\n",
        "# Merge the datasets on 'customer_id'\n",
        "df_merged = customer_agg.merge(merged_df, on='customer_id', how='left')\n",
        "\n",
        "# Display the first few rows of the merged dataset\n",
        "print(df_merged.head())"
      ]
    },
    {
      "cell_type": "code",
      "execution_count": null,
      "metadata": {
        "id": "ZRHurE3qgYuD"
      },
      "outputs": [],
      "source": [
        "# Select the target and features\n",
        "target = 'purchase_frequency'\n",
        "features = ['customer_lifetime', 'recency', 'customer_id']  # Adjust as needed based on actual column names\n",
        "\n",
        "X = df_merged[features]\n",
        "y = df_merged[target]\n",
        "\n",
        "# Split the data into training and testing sets\n",
        "from sklearn.model_selection import train_test_split\n",
        "X_train, X_test, y_train, y_test = train_test_split(X, y, test_size=0.2, random_state=42)"
      ]
    },
    {
      "cell_type": "code",
      "execution_count": null,
      "metadata": {
        "id": "H07WiDtwhLfo"
      },
      "outputs": [],
      "source": [
        "from sklearn.preprocessing import StandardScaler, OneHotEncoder\n",
        "from sklearn.compose import ColumnTransformer\n",
        "\n",
        "# Define the preprocessor\n",
        "preprocessor = ColumnTransformer(\n",
        "    transformers=[\n",
        "        ('num', StandardScaler(), ['customer_lifetime', 'recency']),\n",
        "        ('cat', OneHotEncoder(handle_unknown='ignore'), ['customer_id'])\n",
        "    ]\n",
        ")\n",
        "\n",
        "# Preprocess the training data\n",
        "X_train_preprocessed = preprocessor.fit_transform(X_train)\n",
        "\n",
        "# Preprocess the testing data\n",
        "X_test_preprocessed = preprocessor.transform(X_test)"
      ]
    },
    {
      "cell_type": "code",
      "execution_count": null,
      "metadata": {
        "colab": {
          "base_uri": "https://localhost:8080/",
          "height": 75
        },
        "id": "AMilw10VhRQv",
        "outputId": "9303b50b-5233-4b71-93ac-b7892264e9d2"
      },
      "outputs": [
        {
          "output_type": "execute_result",
          "data": {
            "text/plain": [
              "RandomForestRegressor(random_state=42)"
            ],
            "text/html": [
              "<style>#sk-container-id-1 {color: black;background-color: white;}#sk-container-id-1 pre{padding: 0;}#sk-container-id-1 div.sk-toggleable {background-color: white;}#sk-container-id-1 label.sk-toggleable__label {cursor: pointer;display: block;width: 100%;margin-bottom: 0;padding: 0.3em;box-sizing: border-box;text-align: center;}#sk-container-id-1 label.sk-toggleable__label-arrow:before {content: \"▸\";float: left;margin-right: 0.25em;color: #696969;}#sk-container-id-1 label.sk-toggleable__label-arrow:hover:before {color: black;}#sk-container-id-1 div.sk-estimator:hover label.sk-toggleable__label-arrow:before {color: black;}#sk-container-id-1 div.sk-toggleable__content {max-height: 0;max-width: 0;overflow: hidden;text-align: left;background-color: #f0f8ff;}#sk-container-id-1 div.sk-toggleable__content pre {margin: 0.2em;color: black;border-radius: 0.25em;background-color: #f0f8ff;}#sk-container-id-1 input.sk-toggleable__control:checked~div.sk-toggleable__content {max-height: 200px;max-width: 100%;overflow: auto;}#sk-container-id-1 input.sk-toggleable__control:checked~label.sk-toggleable__label-arrow:before {content: \"▾\";}#sk-container-id-1 div.sk-estimator input.sk-toggleable__control:checked~label.sk-toggleable__label {background-color: #d4ebff;}#sk-container-id-1 div.sk-label input.sk-toggleable__control:checked~label.sk-toggleable__label {background-color: #d4ebff;}#sk-container-id-1 input.sk-hidden--visually {border: 0;clip: rect(1px 1px 1px 1px);clip: rect(1px, 1px, 1px, 1px);height: 1px;margin: -1px;overflow: hidden;padding: 0;position: absolute;width: 1px;}#sk-container-id-1 div.sk-estimator {font-family: monospace;background-color: #f0f8ff;border: 1px dotted black;border-radius: 0.25em;box-sizing: border-box;margin-bottom: 0.5em;}#sk-container-id-1 div.sk-estimator:hover {background-color: #d4ebff;}#sk-container-id-1 div.sk-parallel-item::after {content: \"\";width: 100%;border-bottom: 1px solid gray;flex-grow: 1;}#sk-container-id-1 div.sk-label:hover label.sk-toggleable__label {background-color: #d4ebff;}#sk-container-id-1 div.sk-serial::before {content: \"\";position: absolute;border-left: 1px solid gray;box-sizing: border-box;top: 0;bottom: 0;left: 50%;z-index: 0;}#sk-container-id-1 div.sk-serial {display: flex;flex-direction: column;align-items: center;background-color: white;padding-right: 0.2em;padding-left: 0.2em;position: relative;}#sk-container-id-1 div.sk-item {position: relative;z-index: 1;}#sk-container-id-1 div.sk-parallel {display: flex;align-items: stretch;justify-content: center;background-color: white;position: relative;}#sk-container-id-1 div.sk-item::before, #sk-container-id-1 div.sk-parallel-item::before {content: \"\";position: absolute;border-left: 1px solid gray;box-sizing: border-box;top: 0;bottom: 0;left: 50%;z-index: -1;}#sk-container-id-1 div.sk-parallel-item {display: flex;flex-direction: column;z-index: 1;position: relative;background-color: white;}#sk-container-id-1 div.sk-parallel-item:first-child::after {align-self: flex-end;width: 50%;}#sk-container-id-1 div.sk-parallel-item:last-child::after {align-self: flex-start;width: 50%;}#sk-container-id-1 div.sk-parallel-item:only-child::after {width: 0;}#sk-container-id-1 div.sk-dashed-wrapped {border: 1px dashed gray;margin: 0 0.4em 0.5em 0.4em;box-sizing: border-box;padding-bottom: 0.4em;background-color: white;}#sk-container-id-1 div.sk-label label {font-family: monospace;font-weight: bold;display: inline-block;line-height: 1.2em;}#sk-container-id-1 div.sk-label-container {text-align: center;}#sk-container-id-1 div.sk-container {/* jupyter's `normalize.less` sets `[hidden] { display: none; }` but bootstrap.min.css set `[hidden] { display: none !important; }` so we also need the `!important` here to be able to override the default hidden behavior on the sphinx rendered scikit-learn.org. See: https://github.com/scikit-learn/scikit-learn/issues/21755 */display: inline-block !important;position: relative;}#sk-container-id-1 div.sk-text-repr-fallback {display: none;}</style><div id=\"sk-container-id-1\" class=\"sk-top-container\"><div class=\"sk-text-repr-fallback\"><pre>RandomForestRegressor(random_state=42)</pre><b>In a Jupyter environment, please rerun this cell to show the HTML representation or trust the notebook. <br />On GitHub, the HTML representation is unable to render, please try loading this page with nbviewer.org.</b></div><div class=\"sk-container\" hidden><div class=\"sk-item\"><div class=\"sk-estimator sk-toggleable\"><input class=\"sk-toggleable__control sk-hidden--visually\" id=\"sk-estimator-id-1\" type=\"checkbox\" checked><label for=\"sk-estimator-id-1\" class=\"sk-toggleable__label sk-toggleable__label-arrow\">RandomForestRegressor</label><div class=\"sk-toggleable__content\"><pre>RandomForestRegressor(random_state=42)</pre></div></div></div></div></div>"
            ]
          },
          "metadata": {},
          "execution_count": 8
        }
      ],
      "source": [
        "from sklearn.ensemble import RandomForestRegressor\n",
        "\n",
        "# Initialize and train the Random Forest model\n",
        "rf_model = RandomForestRegressor(n_estimators=100, random_state=42)\n",
        "rf_model.fit(X_train_preprocessed, y_train)"
      ]
    },
    {
      "cell_type": "code",
      "execution_count": null,
      "metadata": {
        "colab": {
          "base_uri": "https://localhost:8080/",
          "height": 600
        },
        "id": "c8pzbkvBWlNu",
        "outputId": "fe5d6326-0dbf-4b16-e56e-06dcbb9fb05f"
      },
      "outputs": [
        {
          "output_type": "stream",
          "name": "stdout",
          "text": [
            "Mean Squared Error: 42.5633\n",
            "R^2 Score: 0.5461\n"
          ]
        },
        {
          "output_type": "display_data",
          "data": {
            "text/plain": [
              "<Figure size 1000x600 with 1 Axes>"
            ],
            "image/png": "[encoded data removed]"
          },
          "metadata": {}
        }
      ],
      "source": [
        "from sklearn.metrics import mean_squared_error, r2_score\n",
        "\n",
        "# Predict on the test set\n",
        "y_pred = rf_model.predict(X_test_preprocessed)\n",
        "\n",
        "# Evaluate the model's performance\n",
        "mse = mean_squared_error(y_test, y_pred)\n",
        "r2 = r2_score(y_test, y_pred)\n",
        "print(f\"Mean Squared Error: {mse:.4f}\")\n",
        "print(f\"R^2 Score: {r2:.4f}\")\n",
        "\n",
        "# Display feature importances\n",
        "import numpy as np\n",
        "import matplotlib.pyplot as plt\n",
        "\n",
        "# Retrieve the feature importances\n",
        "feature_importances = rf_model.feature_importances_\n",
        "\n",
        "# Since customer_id is one-hot encoded, we need to sum the importances of its categories\n",
        "onehot_encoder = preprocessor.named_transformers_['cat']\n",
        "categories = onehot_encoder.categories_[0]\n",
        "customer_id_importance = feature_importances[-len(categories):].sum()\n",
        "\n",
        "# Create a dictionary with feature names and their importance\n",
        "features = ['customer_lifetime', 'recency', 'customer_id']\n",
        "importances = list(feature_importances[:-len(categories)]) + [customer_id_importance]\n",
        "\n",
        "# Plot feature importance\n",
        "plt.figure(figsize=(10, 6))\n",
        "plt.title(\"Feature Importance\")\n",
        "plt.bar(features, importances, align=\"center\")\n",
        "plt.xlabel(\"Features\")\n",
        "plt.ylabel(\"Importance\")\n",
        "plt.show()"
      ]
    },
    {
      "cell_type": "code",
      "execution_count": null,
      "metadata": {
        "id": "S9K_It-fve2P"
      },
      "outputs": [],
      "source": [
        "# Define the bins and labels\n",
        "bins = [-1, 10, 20, float('inf')]\n",
        "labels = ['low', 'medium', 'high']\n",
        "\n",
        "# Bin the true values\n",
        "y_test_binned = pd.cut(y_test, bins=bins, labels=labels)\n",
        "\n",
        "# Bin the predicted values\n",
        "y_pred_binned = pd.cut(y_pred, bins=bins, labels=labels)"
      ]
    },
    {
      "cell_type": "code",
      "execution_count": null,
      "metadata": {
        "colab": {
          "base_uri": "https://localhost:8080/"
        },
        "id": "Py61Vq63xD0A",
        "outputId": "6bda3fb2-a8ad-4cab-fc73-185f4a9c0f6d"
      },
      "outputs": [
        {
          "output_type": "stream",
          "name": "stdout",
          "text": [
            "Accuracy: 0.9121\n",
            "\n",
            "Confusion Matrix:\n",
            "[[  756   308   126]\n",
            " [  174 10248    83]\n",
            " [   93   280    39]]\n",
            "\n",
            "Classification Report:\n",
            "              precision    recall  f1-score   support\n",
            "\n",
            "        high       0.74      0.64      0.68      1190\n",
            "         low       0.95      0.98      0.96     10505\n",
            "      medium       0.16      0.09      0.12       412\n",
            "\n",
            "    accuracy                           0.91     12107\n",
            "   macro avg       0.61      0.57      0.59     12107\n",
            "weighted avg       0.90      0.91      0.90     12107\n",
            "\n"
          ]
        }
      ],
      "source": [
        "from sklearn.metrics import accuracy_score, confusion_matrix, classification_report\n",
        "\n",
        "# Calculate accuracy\n",
        "accuracy = accuracy_score(y_test_binned, y_pred_binned)\n",
        "print(f\"Accuracy: {accuracy:.4f}\")\n",
        "\n",
        "# Calculate and print the confusion matrix\n",
        "conf_matrix = confusion_matrix(y_test_binned, y_pred_binned)\n",
        "print(\"\\nConfusion Matrix:\")\n",
        "print(conf_matrix)\n",
        "\n",
        "# Calculate and print the classification report\n",
        "class_report = classification_report(y_test_binned, y_pred_binned, zero_division=0)\n",
        "print(\"\\nClassification Report:\")\n",
        "print(class_report)"
      ]
    },
    {
      "cell_type": "markdown",
      "metadata": {
        "id": "x5xZ4CRTyzsM"
      },
      "source": [
        "For now, the model performs well for the low category but struggles with the high and medium categories. This could be due to an imbalance in the dataset, where the low category is significantly larger. While the overall accuracy is high, the poor performance on medium and high categories suggests the model needs improvement in handling these classes."
      ]
    },
    {
      "cell_type": "code",
      "execution_count": null,
      "metadata": {
        "colab": {
          "base_uri": "https://localhost:8080/"
        },
        "id": "X7MWP2wT0nnZ",
        "outputId": "1eb8b819-faff-4731-cfb1-439a02f66255"
      },
      "outputs": [
        {
          "output_type": "stream",
          "name": "stdout",
          "text": [
            "purchase_frequency\n",
            "3     11111\n",
            "2     10662\n",
            "4      8275\n",
            "1      6159\n",
            "5      3451\n",
            "      ...  \n",
            "82        1\n",
            "69        1\n",
            "67        1\n",
            "84        1\n",
            "72        1\n",
            "Name: count, Length: 74, dtype: int64\n"
          ]
        }
      ],
      "source": [
        "# Check the distribution of the target variable in the training set\n",
        "print(y_train.value_counts())"
      ]
    },
    {
      "cell_type": "code",
      "execution_count": null,
      "metadata": {
        "id": "DezARgBi1lnb"
      },
      "outputs": [],
      "source": [
        "# Filter out rare classes with less than a minimum number of samples, e.g., 5\n",
        "min_samples = 5\n",
        "y_train_filtered = y_train[y_train.map(y_train.value_counts()) >= min_samples]\n",
        "X_train_filtered = X_train_preprocessed[y_train.map(y_train.value_counts()) >= min_samples]"
      ]
    },
    {
      "cell_type": "code",
      "execution_count": null,
      "metadata": {
        "colab": {
          "base_uri": "https://localhost:8080/"
        },
        "id": "UVyE7EPg1pC-",
        "outputId": "d836801e-8ee3-4bd3-be06-bb7dfd5679c1"
      },
      "outputs": [
        {
          "output_type": "stream",
          "name": "stdout",
          "text": [
            "Accuracy: 0.8841\n",
            "\n",
            "Confusion Matrix:\n",
            "[[  221   968     1]\n",
            " [   23 10482     0]\n",
            " [   27   384     1]]\n",
            "\n",
            "Classification Report:\n",
            "              precision    recall  f1-score   support\n",
            "\n",
            "        high       0.82      0.19      0.30      1190\n",
            "         low       0.89      1.00      0.94     10505\n",
            "      medium       0.50      0.00      0.00       412\n",
            "\n",
            "    accuracy                           0.88     12107\n",
            "   macro avg       0.73      0.40      0.42     12107\n",
            "weighted avg       0.87      0.88      0.84     12107\n",
            "\n"
          ]
        }
      ],
      "source": [
        "from imblearn.over_sampling import SMOTE\n",
        "from sklearn.ensemble import RandomForestClassifier\n",
        "\n",
        "# Adjust the k_neighbors parameter based on the filtered smallest class size\n",
        "smote = SMOTE(random_state=42, k_neighbors=2)\n",
        "\n",
        "# Apply SMOTE to the filtered training data\n",
        "X_train_smote, y_train_smote = smote.fit_resample(X_train_filtered, y_train_filtered)\n",
        "\n",
        "# Train the Random Forest classifier on the balanced data\n",
        "rf_classifier_smote = RandomForestClassifier(n_estimators=100, random_state=42)\n",
        "rf_classifier_smote.fit(X_train_smote, y_train_smote)\n",
        "\n",
        "# Predict on the test set\n",
        "y_pred_smote = rf_classifier_smote.predict(X_test_preprocessed)\n",
        "\n",
        "# Bin the predictions and true values\n",
        "y_pred_binned_smote = pd.cut(y_pred_smote, bins=bins, labels=labels)\n",
        "y_test_binned_smote = pd.cut(y_test, bins=bins, labels=labels)\n",
        "\n",
        "# Evaluate the model's performance\n",
        "accuracy_smote = accuracy_score(y_test_binned_smote, y_pred_binned_smote)\n",
        "print(f\"Accuracy: {accuracy_smote:.4f}\")\n",
        "\n",
        "conf_matrix_smote = confusion_matrix(y_test_binned_smote, y_pred_binned_smote)\n",
        "print(\"\\nConfusion Matrix:\")\n",
        "print(conf_matrix_smote)\n",
        "\n",
        "class_report_smote = classification_report(y_test_binned_smote, y_pred_binned_smote, zero_division=0)\n",
        "print(\"\\nClassification Report:\")\n",
        "print(class_report_smote)"
      ]
    },
    {
      "cell_type": "markdown",
      "metadata": {
        "id": "MHxCi6IkgoqW"
      },
      "source": [
        "The model still shows high overall accuracy but struggles significantly with the \"high\" and \"medium\" categories, as indicated by low precision, recall, and F1 scores for these classes. This imbalance in performance suggests that the model is heavily biased towards the majority class (\"low\")."
      ]
    },
    {
      "cell_type": "code",
      "execution_count": null,
      "metadata": {
        "id": "fF2XFbuhgpxM",
        "colab": {
          "base_uri": "https://localhost:8080/"
        },
        "outputId": "b7df22e2-ffae-4ba8-d047-895a9e178fdf"
      },
      "outputs": [
        {
          "output_type": "stream",
          "name": "stdout",
          "text": [
            "Accuracy: 0.9019\n",
            "\n",
            "Confusion Matrix:\n",
            "[[  574   544    72]\n",
            " [  142 10335    28]\n",
            " [   81   321    10]]\n",
            "\n",
            "Classification Report:\n",
            "              precision    recall  f1-score   support\n",
            "\n",
            "        high       0.72      0.48      0.58      1190\n",
            "         low       0.92      0.98      0.95     10505\n",
            "      medium       0.09      0.02      0.04       412\n",
            "\n",
            "    accuracy                           0.90     12107\n",
            "   macro avg       0.58      0.50      0.52     12107\n",
            "weighted avg       0.87      0.90      0.88     12107\n",
            "\n"
          ]
        }
      ],
      "source": [
        "from imblearn.combine import SMOTEENN\n",
        "from sklearn.metrics import accuracy_score, confusion_matrix, classification_report\n",
        "\n",
        "# Apply SMOTEENN to the filtered training data\n",
        "smoteenn = SMOTEENN(random_state=42, smote=SMOTE(k_neighbors=2))\n",
        "X_train_resampled, y_train_resampled = smoteenn.fit_resample(X_train_filtered, y_train_filtered)\n",
        "\n",
        "# Train the Random Forest classifier on the balanced data\n",
        "rf_classifier_resampled = RandomForestClassifier(n_estimators=100, random_state=42)\n",
        "rf_classifier_resampled.fit(X_train_resampled, y_train_resampled)\n",
        "\n",
        "# Predict on the test set\n",
        "y_pred_resampled = rf_classifier_resampled.predict(X_test_preprocessed)\n",
        "\n",
        "# Bin the predictions and true values\n",
        "y_pred_binned_resampled = pd.cut(y_pred_resampled, bins=bins, labels=labels)\n",
        "y_test_binned_resampled = pd.cut(y_test, bins=bins, labels=labels)\n",
        "\n",
        "# Evaluate the model's performance\n",
        "accuracy_resampled = accuracy_score(y_test_binned_resampled, y_pred_binned_resampled)\n",
        "print(f\"Accuracy: {accuracy_resampled:.4f}\")\n",
        "\n",
        "conf_matrix_resampled = confusion_matrix(y_test_binned_resampled, y_pred_binned_resampled)\n",
        "print(\"\\nConfusion Matrix:\")\n",
        "print(conf_matrix_resampled)\n",
        "\n",
        "class_report_resampled = classification_report(y_test_binned_resampled, y_pred_binned_resampled, zero_division=0)\n",
        "print(\"\\nClassification Report:\")\n",
        "print(class_report_resampled)"
      ]
    },
    {
      "cell_type": "code",
      "source": [
        "import joblib\n",
        "from google.colab import drive\n",
        "\n",
        "# Mount Google Drive\n",
        "drive.mount('/content/drive')\n",
        "\n",
        "# Define paths for saving and loading\n",
        "model_path = '/content/drive/My Drive/rf_classifier_resampled.pkl'\n",
        "X_train_preprocessed_path = '/content/drive/My Drive/X_train_preprocessed.pkl'\n",
        "y_train_path = '/content/drive/My Drive/y_train.pkl'\n",
        "X_test_preprocessed_path = '/content/drive/My Drive/X_test_preprocessed.pkl'\n",
        "y_test_path = '/content/drive/My Drive/y_test.pkl'\n",
        "X_train_resampled_path = '/content/drive/My Drive/X_train_resampled.pkl'\n",
        "y_train_resampled_path = '/content/drive/My Drive/y_train_resampled.pkl'\n",
        "\n",
        "# Save the model and preprocessed data\n",
        "joblib.dump(rf_classifier_resampled, model_path)\n",
        "joblib.dump(X_train_preprocessed, X_train_preprocessed_path)\n",
        "joblib.dump(y_train, y_train_path)\n",
        "joblib.dump(X_test_preprocessed, X_test_preprocessed_path)\n",
        "joblib.dump(y_test, y_test_path)\n",
        "joblib.dump(X_train_resampled, X_train_resampled_path)\n",
        "joblib.dump(y_train_resampled, y_train_resampled_path)\n"
      ],
      "metadata": {
        "colab": {
          "base_uri": "https://localhost:8080/"
        },
        "id": "iPJxtAaGpwOt",
        "outputId": "d5ee09ea-bbf6-4297-db5f-721a522790fe"
      },
      "execution_count": null,
      "outputs": [
        {
          "output_type": "stream",
          "name": "stdout",
          "text": [
            "Drive already mounted at /content/drive; to attempt to forcibly remount, call drive.mount(\"/content/drive\", force_remount=True).\n"
          ]
        },
        {
          "output_type": "execute_result",
          "data": {
            "text/plain": [
              "['/content/drive/My Drive/y_train_resampled.pkl']"
            ]
          },
          "metadata": {},
          "execution_count": 17
        }
      ]
    },
    {
      "cell_type": "code",
      "source": [
        "import os\n",
        "import joblib\n",
        "from google.colab import drive\n",
        "\n",
        "# Mount Google Drive\n",
        "drive.mount('/content/drive')\n",
        "\n",
        "# Define paths for saving and loading\n",
        "model_path = '/content/drive/My Drive/rf_classifier_resampled.pkl'\n",
        "X_train_preprocessed_path = '/content/drive/My Drive/X_train_preprocessed.pkl'\n",
        "y_train_path = '/content/drive/My Drive/y_train.pkl'\n",
        "X_test_preprocessed_path = '/content/drive/My Drive/X_test_preprocessed.pkl'\n",
        "y_test_path = '/content/drive/My Drive/y_test.pkl'\n",
        "X_train_resampled_path = '/content/drive/My Drive/X_train_resampled.pkl'\n",
        "y_train_resampled_path = '/content/drive/My Drive/y_train_resampled.pkl'\n",
        "\n",
        "# Check if the files exist and load them\n",
        "if os.path.exists(model_path):\n",
        "    rf_classifier_resampled = joblib.load(model_path)\n",
        "    X_train_preprocessed = joblib.load(X_train_preprocessed_path)\n",
        "    y_train = joblib.load(y_train_path)\n",
        "    X_test_preprocessed = joblib.load(X_test_preprocessed_path)\n",
        "    y_test = joblib.load(y_test_path)\n",
        "    X_train_resampled = joblib.load(X_train_resampled_path)\n",
        "    y_train_resampled = joblib.load(y_train_resampled_path)\n",
        "else:\n",
        "    print(\"Saved files not found. Please run the preprocessing and model training steps.\")\n",
        "\n",
        "# Predict on the test set\n",
        "y_pred_resampled = rf_classifier_resampled.predict(X_test_preprocessed)\n",
        "\n",
        "# Evaluate the model's performance\n",
        "from sklearn.metrics import accuracy_score, confusion_matrix, classification_report\n",
        "\n",
        "bins = [-1, 10, 20, float('inf')]\n",
        "labels = ['low', 'medium', 'high']\n",
        "y_pred_binned_resampled = pd.cut(y_pred_resampled, bins=bins, labels=labels)\n",
        "y_test_binned_resampled = pd.cut(y_test, bins=bins, labels=labels)\n",
        "\n",
        "accuracy_resampled = accuracy_score(y_test_binned_resampled, y_pred_binned_resampled)\n",
        "print(f\"Accuracy: {accuracy_resampled:.4f}\")\n",
        "\n",
        "conf_matrix_resampled = confusion_matrix(y_test_binned_resampled, y_pred_binned_resampled)\n",
        "print(\"\\nConfusion Matrix:\")\n",
        "print(conf_matrix_resampled)\n",
        "\n",
        "class_report_resampled = classification_report(y_test_binned_resampled, y_pred_binned_resampled, zero_division=0)\n",
        "print(\"\\nClassification Report:\")\n",
        "print(class_report_resampled)"
      ],
      "metadata": {
        "colab": {
          "base_uri": "https://localhost:8080/"
        },
        "id": "v2yKMZ1Np-qN",
        "outputId": "a1d0dbbe-8bf3-479f-dbac-5b930e95c18f"
      },
      "execution_count": null,
      "outputs": [
        {
          "output_type": "stream",
          "name": "stdout",
          "text": [
            "Drive already mounted at /content/drive; to attempt to forcibly remount, call drive.mount(\"/content/drive\", force_remount=True).\n",
            "Accuracy: 0.9019\n",
            "\n",
            "Confusion Matrix:\n",
            "[[  574   544    72]\n",
            " [  142 10335    28]\n",
            " [   81   321    10]]\n",
            "\n",
            "Classification Report:\n",
            "              precision    recall  f1-score   support\n",
            "\n",
            "        high       0.72      0.48      0.58      1190\n",
            "         low       0.92      0.98      0.95     10505\n",
            "      medium       0.09      0.02      0.04       412\n",
            "\n",
            "    accuracy                           0.90     12107\n",
            "   macro avg       0.58      0.50      0.52     12107\n",
            "weighted avg       0.87      0.90      0.88     12107\n",
            "\n"
          ]
        }
      ]
    },
    {
      "cell_type": "markdown",
      "source": [
        "## Conclusion\n",
        "\n",
        "### Model Performance Summary\n",
        "The Random Forest model trained on the customer aggregation data achieved an overall accuracy of 90.19% on the validation set.\n",
        "Below is a detailed analysis of the model's performance:\n",
        "\n",
        "### Analysis\n",
        "\n",
        "- **High and Low Classes**:\n",
        "  - The model performs well in predicting the 'low' class with a precision of 0.92 and a recall of 0.98, resulting in a high f1-score of 0.95.\n",
        "  - The 'high' class has moderate performance with a precision of 0.72 and a recall of 0.48, indicating that while it is relatively good at predicting 'high' instances, it misses number of them.\n",
        "\n",
        "- **Medium Class**:\n",
        "  - The 'medium' class prediction is notably poor with a precision of 0.09 and a recall of 0.02. This indicates that the model struggles to accurately predict this class, resulting in a very low f1-score of 0.04."
      ],
      "metadata": {
        "id": "c31gE0a_eyVW"
      }
    }
  ],
  "metadata": {
    "colab": {
      "provenance": []
    },
    "kernelspec": {
      "display_name": "Python 3",
      "name": "python3"
    },
    "language_info": {
      "name": "python"
    }
  },
  "nbformat": 4,
  "nbformat_minor": 0
}